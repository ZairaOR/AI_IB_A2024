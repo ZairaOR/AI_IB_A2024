{
  "nbformat": 4,
  "nbformat_minor": 0,
  "metadata": {
    "colab": {
      "provenance": [],
      "authorship_tag": "ABX9TyMgRAeioruZO1TD3ITKipQw",
      "include_colab_link": true
    },
    "kernelspec": {
      "name": "python3",
      "display_name": "Python 3"
    },
    "language_info": {
      "name": "python"
    }
  },
  "cells": [
    {
      "cell_type": "markdown",
      "metadata": {
        "id": "view-in-github",
        "colab_type": "text"
      },
      "source": [
        "<a href=\"https://colab.research.google.com/github/ZairaOR/AI_IB_A2024/blob/main/Assignments/Assignment_2_PythonExercises_1983377.ipynb\" target=\"_parent\"><img src=\"https://colab.research.google.com/assets/colab-badge.svg\" alt=\"Open In Colab\"/></a>"
      ]
    },
    {
      "cell_type": "markdown",
      "source": [
        "# **Assignment 2.- Basics on Python.**\n"
      ],
      "metadata": {
        "id": "6k_qx4cmO7Zw"
      }
    },
    {
      "cell_type": "markdown",
      "source": [
        "**Goal:**\n",
        "\n",
        "Practice Python syntax and programming logic. Get to know Google Colab interface."
      ],
      "metadata": {
        "id": "uX8Wc3fEPPhw"
      }
    },
    {
      "cell_type": "markdown",
      "source": [
        "## Exercise 1 - Text Analysis Tool\n",
        "\n"
      ],
      "metadata": {
        "id": "48XmWDu2RUV6"
      }
    },
    {
      "cell_type": "markdown",
      "source": [
        "Create a Python program that reads a text file and performs various analyses on its content. The program should: Count the number of words, sentences, and paragraphs. Calculate the average word length. Identify the most common words and their frequencies."
      ],
      "metadata": {
        "id": "uuBJWKqOROpX"
      }
    },
    {
      "cell_type": "markdown",
      "source": [
        "### CODE:"
      ],
      "metadata": {
        "id": "QIZ4UL_CStbM"
      }
    },
    {
      "cell_type": "code",
      "execution_count": 1,
      "metadata": {
        "colab": {
          "base_uri": "https://localhost:8080/"
        },
        "id": "O6pIpX-Lj6d5",
        "outputId": "629a9e92-60d8-45ab-e1f9-755255a12260"
      },
      "outputs": [
        {
          "output_type": "stream",
          "name": "stdout",
          "text": [
            "Enter your text: \"Intelligent automation (IA) combines AI with automation technologies to enhance business processes and decision-making. Using AI algorithms to automate workflows and routine tasks reduces manual effort and boosts productivity.\"\n",
            "Number of paragraphs: 1\n",
            "Number of sentences: 3\n",
            "Number of words: 29\n",
            "Average word length: 6.90\n",
            "Most common words:\n",
            "and: 3\n",
            "automation: 2\n",
            "AI: 2\n",
            "to: 2\n",
            "\"Intelligent: 1\n",
            "(IA): 1\n",
            "combines: 1\n",
            "with: 1\n",
            "technologies: 1\n",
            "enhance: 1\n"
          ]
        }
      ],
      "source": [
        "from collections import Counter # We import the Counter class from the collections module\n",
        "\n",
        "def analyze_text(text):\n",
        "    # Split the text into paragraphs\n",
        "    paragraphs = text.split('\\n\\n')\n",
        "    num_paragraphs = len(paragraphs)\n",
        "\n",
        "    # Split the text into sentences\n",
        "    sentences = text.replace('!', '.').replace('?', '.').split('.')\n",
        "    num_sentences = len(sentences)\n",
        "\n",
        "    # Split the text into words\n",
        "    words = text.split()\n",
        "    num_words = len(words)\n",
        "\n",
        "    # Calculate the average word length\n",
        "    avg_word_length = sum(len(word) for word in words) / num_words\n",
        "\n",
        "    # Identify the most common words and their frequencies\n",
        "    word_frequencies = Counter(words)\n",
        "    most_common_words = word_frequencies.most_common(10)\n",
        "\n",
        "    print(f'Number of paragraphs: {num_paragraphs}')\n",
        "    print(f'Number of sentences: {num_sentences}')\n",
        "    print(f'Number of words: {num_words}')\n",
        "    print(f'Average word length: {avg_word_length:.2f}')\n",
        "    print('Most common words:')\n",
        "    for word, freq in most_common_words:\n",
        "        print(f'{word}: {freq}')\n",
        "\n",
        "# Test the function with your input\n",
        "text = input(\"Enter your text: \")\n",
        "analyze_text(text)\n"
      ]
    },
    {
      "cell_type": "markdown",
      "source": [
        "## Exercise 2 - Hangman Game"
      ],
      "metadata": {
        "id": "U5I9p8nzSzNi"
      }
    },
    {
      "cell_type": "markdown",
      "source": [
        "### CODE:"
      ],
      "metadata": {
        "id": "0dWAClaQS5v2"
      }
    },
    {
      "cell_type": "code",
      "source": [
        "# We import the random module\n",
        "import random\n",
        "\n",
        "# This is our Hangman function\n",
        "def hangman():\n",
        "    # We define a list of words to choose from\n",
        "    words = ['raccoon', 'zebra', 'panda', 'giraffe', 'jaguar', 'fox', 'lion']\n",
        "\n",
        "    word = random.choice(words)\n",
        "\n",
        "    # We create a list to store the guessed letters\n",
        "    guessed = []\n",
        "\n",
        "    attempts = 10\n",
        "\n",
        "    print(\"Let's play Hangman!\")\n",
        "\n",
        "    # We start a loop that continues until the player runs out of attempts\n",
        "    while attempts > 0:\n",
        "        guessed_word = True\n",
        "\n",
        "        # We go through each character in the word\n",
        "        for char in word:\n",
        "            if char in guessed:        # If the player has guessed the character, we print it\n",
        "                print(char, end=' ')\n",
        "            else:                      # If not, we print an underscore and set our variable to False\n",
        "                print('_', end=' ')\n",
        "                guessed_word = False\n",
        "\n",
        "        # If the player has guessed the word, we end the game\n",
        "        if guessed_word:\n",
        "            print(\"\\nYou win!\")\n",
        "            return\n",
        "\n",
        "        # We ask the player to guess a letter\n",
        "        guess = input(\"\\nGuess a letter: \")\n",
        "\n",
        "        # If the letter is in the word, we add it to the list of guessed letters\n",
        "        if guess in word:\n",
        "            guessed.append(guess)\n",
        "        # If not, we reduce the number of attempts by 1\n",
        "        else:\n",
        "            attempts -= 1\n",
        "            print(\"Incorrect! You have\", attempts, \"more guesses.\")\n",
        "\n",
        "    # If the player has run out of attempts, we end the game\n",
        "    print(\"You lose! The word was:\", word)\n",
        "\n",
        "# We call our function to start the game\n",
        "hangman()\n"
      ],
      "metadata": {
        "colab": {
          "base_uri": "https://localhost:8080/"
        },
        "id": "1VLbL7Ssn7Bh",
        "outputId": "c2f5e10b-783e-434d-f6e9-f66c5287ec18"
      },
      "execution_count": 4,
      "outputs": [
        {
          "output_type": "stream",
          "name": "stdout",
          "text": [
            "Let's play Hangman!\n",
            "_ _ _ \n",
            "Guess a letter: m\n",
            "Incorrect! You have 9 more guesses.\n",
            "_ _ _ \n",
            "Guess a letter: p\n",
            "Incorrect! You have 8 more guesses.\n",
            "_ _ _ \n",
            "Guess a letter: f\n",
            "f _ _ \n",
            "Guess a letter: o\n",
            "f o _ \n",
            "Guess a letter: x\n",
            "f o x \n",
            "You win!\n"
          ]
        }
      ]
    },
    {
      "cell_type": "markdown",
      "source": [
        "## Exercise 3 - Number Guessing Game"
      ],
      "metadata": {
        "id": "vTsE6l6MUUon"
      }
    },
    {
      "cell_type": "markdown",
      "source": [
        "### CODE:"
      ],
      "metadata": {
        "id": "frzC_sd6UbIo"
      }
    },
    {
      "cell_type": "code",
      "source": [
        "# We import the random module\n",
        "import random\n",
        "\n",
        "def guess_the_number():\n",
        "    # Generate a random number between 1 and 100\n",
        "    number_to_guess = random.randint(1, 100)\n",
        "\n",
        "    # Ask the user to guess the number\n",
        "    guess = int(input(\"Guess a number between 1 and 100: \"))\n",
        "\n",
        "    # Keep asking for a new guess until the user guesses correctly\n",
        "    while guess != number_to_guess:\n",
        "        # Provide a hint if the guessed number is less than the target number\n",
        "        if guess < number_to_guess:\n",
        "            print(\"Too low!\")\n",
        "        # Provide a hint if the guessed number is greater than the target number\n",
        "        else:\n",
        "            print(\"Too high!\")\n",
        "        # Ask for a new guess\n",
        "        guess = int(input(\"Try again: \"))\n",
        "\n",
        "    # Congratulate the user when they guess correctly\n",
        "    print(\"Congratulations! You guessed the number.\")\n",
        "\n",
        "# Start the game\n",
        "guess_the_number()\n"
      ],
      "metadata": {
        "colab": {
          "base_uri": "https://localhost:8080/"
        },
        "id": "PlGxbtAdZjaW",
        "outputId": "1c9b3c87-a32a-41d9-dd8a-ac27ededfbbb"
      },
      "execution_count": 5,
      "outputs": [
        {
          "output_type": "stream",
          "name": "stdout",
          "text": [
            "Guess a number between 1 and 100: 15\n",
            "Too low!\n",
            "Try again: 50\n",
            "Too high!\n",
            "Try again: 30\n",
            "Too high!\n",
            "Try again: 20\n",
            "Too low!\n",
            "Try again: 25\n",
            "Too high!\n",
            "Try again: 22\n",
            "Congratulations! You guessed the number.\n"
          ]
        }
      ]
    },
    {
      "cell_type": "markdown",
      "source": [
        "## References\n",
        "Matthes, E. (2023). Python crash course. No starch press.\n",
        "\n",
        "https://www.w3schools.com/python/default.asp"
      ],
      "metadata": {
        "id": "c_geews9WEVb"
      }
    }
  ]
}